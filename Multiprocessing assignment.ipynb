{
 "cells": [
  {
   "cell_type": "markdown",
   "id": "7d0585ec-cdd4-47be-b152-6e94647a90bc",
   "metadata": {},
   "source": [
    "# Q3 Answer"
   ]
  },
  {
   "cell_type": "code",
   "execution_count": 5,
   "id": "74f8a384-d81e-4ba2-b213-e281704e6ebd",
   "metadata": {},
   "outputs": [
    {
     "name": "stdin",
     "output_type": "stream",
     "text": [
      "Enter the Number  32\n"
     ]
    },
    {
     "name": "stdout",
     "output_type": "stream",
     "text": [
      "Square: 1024\n",
      "Cube: 32768\n",
      "Done!\n"
     ]
    }
   ],
   "source": [
    "\n",
    "\n",
    "import multiprocessing\n",
    "  \n",
    "def print_cube(num):\n",
    "  \n",
    "    print(\"Cube: {}\".format(num * num * num))\n",
    "\n",
    "def print_square(num):\n",
    "    \n",
    "    print(\"Square: {}\".format(num * num))\n",
    "\n",
    "num=(int(input(\"Enter the Number \")))\n",
    "    \n",
    "if __name__ == \"__main__\":\n",
    "    # creating processes\n",
    "    p1 = multiprocessing.Process(target=print_square, args=(num, ))\n",
    "    p2 = multiprocessing.Process(target=print_cube, args=(num, ))\n",
    "  \n",
    "    # starting process 1\n",
    "    p1.start()\n",
    "    # starting process 2\n",
    "    p2.start()\n",
    "  \n",
    "    # wait until process 1 is finished\n",
    "    p1.join()\n",
    "    # wait until process 2 is finished\n",
    "    p2.join()\n",
    "  \n",
    "    # both processes finished\n",
    "    print(\"Done!\")"
   ]
  },
  {
   "cell_type": "markdown",
   "id": "297ce6c3-abc0-47dc-adb5-df5cfd698c5e",
   "metadata": {},
   "source": [
    "# Q5 Answer"
   ]
  },
  {
   "cell_type": "code",
   "execution_count": 6,
   "id": "cb3ad350-a12a-474d-b408-073e8846759f",
   "metadata": {},
   "outputs": [
    {
     "name": "stdout",
     "output_type": "stream",
     "text": [
      "[1, 4, 9]\n"
     ]
    }
   ],
   "source": [
    "from multiprocessing import Pool\n",
    "\n",
    "def f(x):\n",
    "    return x*x\n",
    "\n",
    "if __name__ == '__main__':\n",
    "    with Pool(5) as p:\n",
    "        print(p.map(f, [1, 2, 3]))"
   ]
  },
  {
   "cell_type": "code",
   "execution_count": null,
   "id": "aa8dd40b-5ac8-4847-bc65-108e986b3db5",
   "metadata": {},
   "outputs": [],
   "source": [
    " ##Write a python program to create 4 processes, each process should print a different number using the  multiprocessing module in python.\n",
    "    "
   ]
  },
  {
   "cell_type": "code",
   "execution_count": 8,
   "id": "fc1b954f-2ed5-4692-b474-bdec8e626a0e",
   "metadata": {},
   "outputs": [
    {
     "name": "stdout",
     "output_type": "stream",
     "text": [
      "process 2\n",
      "print the Process 1\n"
     ]
    }
   ],
   "source": [
    "## using Process \n",
    "import multiprocessing\n",
    "\n",
    "def test():\n",
    "    print(\"print the Process 1\")\n",
    "\n",
    "if __name__==\"__main__\":#main method invoke python model\n",
    "    m = multiprocessing.Process(target=test)\n",
    "    print(\"process 2\")\n",
    "    m.start()\n",
    "    m.join()"
   ]
  },
  {
   "cell_type": "code",
   "execution_count": 9,
   "id": "8ae3fa46-7d19-47e1-bca6-f2625daeece4",
   "metadata": {},
   "outputs": [
    {
     "name": "stdout",
     "output_type": "stream",
     "text": [
      "[1, 4, 9]\n"
     ]
    }
   ],
   "source": [
    "## pool Class\n",
    "\n",
    "\n",
    "from multiprocessing import Pool\n",
    "def f(x):\n",
    "    return x*x\n",
    "with Pool(5) as p:\n",
    "    print(p.map(f,[1,2,3]))"
   ]
  },
  {
   "cell_type": "code",
   "execution_count": 12,
   "id": "6a27a1c7-0eb8-4425-84d3-daa3111bf6f1",
   "metadata": {},
   "outputs": [
    {
     "name": "stdout",
     "output_type": "stream",
     "text": [
      "The number squares to  49The number cubes to \n",
      " 512\n",
      "Works\n",
      "We're done\n"
     ]
    }
   ],
   "source": [
    "## process class\n",
    "\n",
    "\n",
    "import multiprocessing\n",
    "from multiprocessing import Process\n",
    "def testing():\n",
    "      print(\"Works\")\n",
    "def square(n):\n",
    "       print(\"The number squares to \",n**2)\n",
    "        \n",
    "def cube(n):\n",
    "       print(\"The number cubes to \",n**3)\n",
    "\n",
    "        \n",
    "if __name__==\"__main__\":\n",
    "    \n",
    "    p1=Process(target=square,args=(7,))\n",
    "    \n",
    "    p2=Process(target=cube,args=(8,))\n",
    "    \n",
    "    p3=Process(target=testing)\n",
    "    \n",
    "    p1.start()\n",
    "    \n",
    "    p2.start()\n",
    "    \n",
    "    p3.start()\n",
    "    \n",
    "    p1.join()\n",
    "    \n",
    "    p2.join()\n",
    "    \n",
    "    p3.join()\n",
    "    \n",
    "    print(\"We're done\")"
   ]
  },
  {
   "cell_type": "code",
   "execution_count": 13,
   "id": "e4c14ab8-35d1-4c9a-a38e-f2ca0f36ea5f",
   "metadata": {},
   "outputs": [
    {
     "name": "stdout",
     "output_type": "stream",
     "text": [
      "[42, None, 'hello']\n"
     ]
    }
   ],
   "source": [
    "## Queue Function\n",
    "\n",
    "from multiprocessing import Process, Queue\n",
    "\n",
    "def f(q):\n",
    "    q.put([42, None, 'hello'])\n",
    "\n",
    "if __name__ == '__main__':\n",
    "    q = Queue()\n",
    "    p = Process(target=f, args=(q,))\n",
    "    p.start()\n",
    "    print(q.get()) \n",
    "    p.join()"
   ]
  },
  {
   "cell_type": "code",
   "execution_count": 15,
   "id": "6b62458c-f629-4d3c-9248-c52d1d93ecdf",
   "metadata": {},
   "outputs": [
    {
     "name": "stdout",
     "output_type": "stream",
     "text": [
      "[42, None, 'hello']\n"
     ]
    }
   ],
   "source": [
    "## pipe function\n",
    "\n",
    "from multiprocessing import Process, Pipe\n",
    "\n",
    "def f(conn):\n",
    "    conn.send([42, None, 'hello'])\n",
    "    conn.close()\n",
    "\n",
    "if __name__ == '__main__':\n",
    "    parent_conn, child_conn = Pipe()\n",
    "    p = Process(target=f, args=(child_conn,))\n",
    "    p.start()\n",
    "    print(parent_conn.recv())   \n",
    "    p.join()"
   ]
  },
  {
   "cell_type": "code",
   "execution_count": null,
   "id": "863e2324-e797-4d38-a46e-c205164d334d",
   "metadata": {},
   "outputs": [],
   "source": []
  }
 ],
 "metadata": {
  "kernelspec": {
   "display_name": "Python 3 (ipykernel)",
   "language": "python",
   "name": "python3"
  },
  "language_info": {
   "codemirror_mode": {
    "name": "ipython",
    "version": 3
   },
   "file_extension": ".py",
   "mimetype": "text/x-python",
   "name": "python",
   "nbconvert_exporter": "python",
   "pygments_lexer": "ipython3",
   "version": "3.10.8"
  }
 },
 "nbformat": 4,
 "nbformat_minor": 5
}
